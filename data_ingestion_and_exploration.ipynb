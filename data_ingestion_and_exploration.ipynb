{
 "cells": [
  {
   "cell_type": "code",
   "execution_count": 6,
   "metadata": {},
   "outputs": [],
   "source": [
    "import findspark\n",
    "findspark.init()"
   ]
  },
  {
   "cell_type": "code",
   "execution_count": 7,
   "metadata": {},
   "outputs": [
    {
     "name": "stderr",
     "output_type": "stream",
     "text": [
      "Setting default log level to \"WARN\".\n",
      "To adjust logging level use sc.setLogLevel(newLevel). For SparkR, use setLogLevel(newLevel).\n",
      "25/03/22 22:09:51 WARN NativeCodeLoader: Unable to load native-hadoop library for your platform... using builtin-java classes where applicable\n"
     ]
    }
   ],
   "source": [
    "from pyspark.sql import SparkSession\n",
    "\n",
    "spark = SparkSession.builder.appName(\"FinancialFraudDetection\").getOrCreate()\n"
   ]
  },
  {
   "cell_type": "code",
   "execution_count": null,
   "metadata": {},
   "outputs": [
    {
     "name": "stderr",
     "output_type": "stream",
     "text": [
      "                                                                                \r"
     ]
    }
   ],
   "source": [
    "df = spark.read.csv(\"archive/Base.csv\", header=True, inferSchema=True)"
   ]
  },
  {
   "cell_type": "code",
   "execution_count": 10,
   "metadata": {},
   "outputs": [
    {
     "name": "stdout",
     "output_type": "stream",
     "text": [
      "root\n",
      " |-- fraud_bool: integer (nullable = true)\n",
      " |-- income: double (nullable = true)\n",
      " |-- name_email_similarity: double (nullable = true)\n",
      " |-- prev_address_months_count: integer (nullable = true)\n",
      " |-- current_address_months_count: integer (nullable = true)\n",
      " |-- customer_age: integer (nullable = true)\n",
      " |-- days_since_request: double (nullable = true)\n",
      " |-- intended_balcon_amount: double (nullable = true)\n",
      " |-- payment_type: string (nullable = true)\n",
      " |-- zip_count_4w: integer (nullable = true)\n",
      " |-- velocity_6h: double (nullable = true)\n",
      " |-- velocity_24h: double (nullable = true)\n",
      " |-- velocity_4w: double (nullable = true)\n",
      " |-- bank_branch_count_8w: integer (nullable = true)\n",
      " |-- date_of_birth_distinct_emails_4w: integer (nullable = true)\n",
      " |-- employment_status: string (nullable = true)\n",
      " |-- credit_risk_score: integer (nullable = true)\n",
      " |-- email_is_free: integer (nullable = true)\n",
      " |-- housing_status: string (nullable = true)\n",
      " |-- phone_home_valid: integer (nullable = true)\n",
      " |-- phone_mobile_valid: integer (nullable = true)\n",
      " |-- bank_months_count: integer (nullable = true)\n",
      " |-- has_other_cards: integer (nullable = true)\n",
      " |-- proposed_credit_limit: double (nullable = true)\n",
      " |-- foreign_request: integer (nullable = true)\n",
      " |-- source: string (nullable = true)\n",
      " |-- session_length_in_minutes: double (nullable = true)\n",
      " |-- device_os: string (nullable = true)\n",
      " |-- keep_alive_session: integer (nullable = true)\n",
      " |-- device_distinct_emails_8w: integer (nullable = true)\n",
      " |-- device_fraud_count: integer (nullable = true)\n",
      " |-- month: integer (nullable = true)\n",
      "\n"
     ]
    }
   ],
   "source": [
    "df.printSchema()"
   ]
  }
 ],
 "metadata": {
  "kernelspec": {
   "display_name": "spark_env",
   "language": "python",
   "name": "python3"
  },
  "language_info": {
   "codemirror_mode": {
    "name": "ipython",
    "version": 3
   },
   "file_extension": ".py",
   "mimetype": "text/x-python",
   "name": "python",
   "nbconvert_exporter": "python",
   "pygments_lexer": "ipython3",
   "version": "3.9.21"
  }
 },
 "nbformat": 4,
 "nbformat_minor": 2
}
